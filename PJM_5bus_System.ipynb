{
 "cells": [
  {
   "cell_type": "markdown",
   "metadata": {},
   "source": [
    "This is the modified 5 bus system for ED and OPF from PJM \n",
    "https://matpower.org/docs/ref/matpower5.0/case5.html\n",
    "\n",
    "Power flow data for modified 5 bus, 5 gen case based on PJM 5-bus system\n",
    "Based on data from ...\n",
    "\n",
    "F.Li and R.Bo, \"Small Test Systems for Power System Economic Studies\", Proceedings of the 2010 IEEE Power & Energy Society General Meeting\n"
   ]
  },
  {
   "cell_type": "code",
   "execution_count": 1,
   "metadata": {},
   "outputs": [],
   "source": [
    "import pandas as pd\n",
    "import numpy as np\n",
    "import pandapower as pp\n",
    "import pandapower.networks as pn\n",
    "from pandapower.plotting.plotly import simple_plotly"
   ]
  },
  {
   "cell_type": "code",
   "execution_count": 2,
   "metadata": {},
   "outputs": [
    {
     "name": "stdout",
     "output_type": "stream",
     "text": [
      "2.7.0\n"
     ]
    }
   ],
   "source": [
    "import pandapower\n",
    "print(pandapower.__version__)"
   ]
  },
  {
   "cell_type": "code",
   "execution_count": 3,
   "metadata": {},
   "outputs": [
    {
     "data": {
      "text/plain": [
       "4"
      ]
     },
     "execution_count": 3,
     "metadata": {},
     "output_type": "execute_result"
    }
   ],
   "source": [
    "#Network construction\n",
    "\n",
    "net = pp.create_empty_network() #create an empty network\n",
    "# net.sn_kva=10000000\n",
    "\n",
    "pp.create_bus(net, name=\"A\", vn_kv=230, type=\"b\", geodata=[0,0])\n",
    "pp.create_bus(net, name=\"B\", vn_kv=230, type=\"b\", geodata=[25,0])\n",
    "pp.create_bus(net, name=\"C\", vn_kv=230, type=\"b\", geodata=[50,0])\n",
    "pp.create_bus(net, name=\"D\", vn_kv=230, type=\"b\", geodata=[50,50])\n",
    "pp.create_bus(net, name=\"E\", vn_kv=230, type=\"b\", geodata=[0,50])"
   ]
  },
  {
   "cell_type": "code",
   "execution_count": 4,
   "metadata": {},
   "outputs": [
    {
     "data": {
      "text/plain": [
       "4"
      ]
     },
     "execution_count": 4,
     "metadata": {},
     "output_type": "execute_result"
    }
   ],
   "source": [
    "pp.create_ext_grid(net, bus=1, name='ext', vm_pu = 1, max_p_mw=0, min_p_mw=0, max_q_mvar=0, min_q_mvar=-0)\n",
    "pp.create_gen(net, name='Alta',      bus=0, vm_pu = 1, p_mw=40,  max_p_mw=40,   min_p_mw =0, max_q_mvar=30,  min_q_mvar=-30,  controllable=True)\n",
    "pp.create_gen(net, name='Park City', bus=0, vm_pu = 1, p_mw=135.898, max_p_mw=170,  min_p_mw =0, max_q_mvar=127.5, min_q_mvar=-127.5, controllable=True)\n",
    "pp.create_gen(net, name='Solitude',  bus=3, vm_pu = 1, p_mw=24.118, max_p_mw=520,  min_p_mw =0, max_q_mvar=390, min_q_mvar=-390, controllable=True)\n",
    "pp.create_gen(net, name='Sundance',  bus=3, vm_pu = 1, p_mw=200, max_p_mw= 200, min_p_mw =0, max_q_mvar=200, min_q_mvar=-200, controllable=True)\n",
    "pp.create_gen(net, name='Brighton',  bus=4, vm_pu = 1, p_mw=600, max_p_mw=600,  min_p_mw =0, max_q_mvar=450, min_q_mvar=-450, controllable=True)"
   ]
  },
  {
   "cell_type": "code",
   "execution_count": 5,
   "metadata": {},
   "outputs": [
    {
     "data": {
      "text/plain": [
       "5"
      ]
     },
     "execution_count": 5,
     "metadata": {},
     "output_type": "execute_result"
    }
   ],
   "source": [
    "pp.create_poly_cost(net, 0, 'ext_gen', cp1_eur_per_mw=10)  #Brighton\n",
    "pp.create_poly_cost(net, 0, 'gen', cp1_eur_per_mw=14)        #Alta\n",
    "pp.create_poly_cost(net, 1, 'gen', cp1_eur_per_mw=15)        #Park City\n",
    "pp.create_poly_cost(net, 2, 'gen', cp1_eur_per_mw=30)        #Solitude\n",
    "pp.create_poly_cost(net, 3, 'gen', cp1_eur_per_mw=40)        #Sundancde\n",
    "pp.create_poly_cost(net, 4, 'gen', cp1_eur_per_mw=10)        #Sundancde"
   ]
  },
  {
   "cell_type": "code",
   "execution_count": 6,
   "metadata": {},
   "outputs": [
    {
     "data": {
      "text/plain": [
       "5"
      ]
     },
     "execution_count": 6,
     "metadata": {},
     "output_type": "execute_result"
    }
   ],
   "source": [
    "pp.create_line_from_parameters(net, name='line1', from_bus = 0, to_bus = 1, geodata = ([0,0],[25,0]),\n",
    "                               length_km= 1, r_ohm_per_km = .00281, x_ohm_per_km = 0.0281, c_nf_per_km = 0.00712, max_i_ka = 1, max_loading_percent=100)\n",
    "pp.create_line_from_parameters(net, name='line2', from_bus = 0, to_bus = 3, geodata = ([0,0],[50,50]),\n",
    "                               length_km= 1, r_ohm_per_km = .00304, x_ohm_per_km = 0.0304, c_nf_per_km = 0.00658, max_i_ka = 1)\n",
    "pp.create_line_from_parameters(net, name='line3', from_bus = 0, to_bus = 4, geodata = ([0,0],[0,50]),\n",
    "                               length_km= 1, r_ohm_per_km = .00064, x_ohm_per_km = 0.0064, c_nf_per_km = 0.03126, max_i_ka = 1)\n",
    "pp.create_line_from_parameters(net, name='line4', from_bus = 1, to_bus = 2, geodata = ([25,0],[50,0]),\n",
    "                               length_km= 1, r_ohm_per_km = .00108, x_ohm_per_km = 0.0108, c_nf_per_km = 0.01852, max_i_ka = 1)\n",
    "pp.create_line_from_parameters(net, name='line5', from_bus = 2, to_bus = 3, geodata = ([50,0],[50,50]),\n",
    "                               length_km= 1, r_ohm_per_km = .00297, x_ohm_per_km = 0.0297, c_nf_per_km = 0.00674, max_i_ka = 1)\n",
    "pp.create_line_from_parameters(net, name='line6', from_bus = 3, to_bus = 4, geodata = ([50,50],[0,50]),\n",
    "                               length_km= 1, r_ohm_per_km = .00297, x_ohm_per_km = 0.0297, c_nf_per_km = 0.00674, max_i_ka = 1, max_loading_percent=60)"
   ]
  },
  {
   "cell_type": "code",
   "execution_count": 7,
   "metadata": {},
   "outputs": [
    {
     "data": {
      "text/plain": [
       "2"
      ]
     },
     "execution_count": 7,
     "metadata": {},
     "output_type": "execute_result"
    }
   ],
   "source": [
    "pp.create_load(net, bus=1, p_mw=300, q_mvar=98.610)\n",
    "pp.create_load(net, bus=2, p_mw=300, q_mvar=98.610)\n",
    "pp.create_load(net, bus=3, p_mw=400, q_mvar=131.470)"
   ]
  },
  {
   "cell_type": "code",
   "execution_count": 8,
   "metadata": {},
   "outputs": [
    {
     "name": "stdout",
     "output_type": "stream",
     "text": [
      "PYPOWER Version 5.1.4, 27-June-2018 -- AC Optimal Power Flow\n",
      "Python Interior Point Solver - PIPS, Version 1.0, 07-Feb-2011\n",
      "Converged!\n",
      "\n",
      "Converged in 0.59 seconds\n",
      "================================================================================\n",
      "| PyPower (ppci) System Summary - these are not valid for pandapower DataFrames|\n",
      "================================================================================\n",
      "\n",
      "How many?                How much?              P (MW)            Q (MVAr)\n",
      "---------------------    -------------------  -------------  -----------------\n",
      "Buses              5     Total Gen Capacity    1530.0       -1197.5 to 1197.5\n",
      "Generators         6     On-line Capacity      1530.0       -1197.5 to 1197.5\n",
      "Committed Gens     6     Generation (actual)   1000.0             328.9\n",
      "Loads              3     Load                  1000.0             328.7\n",
      "  Fixed            3       Fixed               1000.0             328.7\n",
      "  Dispatchable     0       Dispatchable           0.0 of 0.0        0.0\n",
      "Shunts             0     Shunt (inj)              0.0               0.0\n",
      "Branches           6     Losses (I^2 * Z)         0.02              0.18\n",
      "Transformers       6     Branch Charging (inj)     -                0.0\n",
      "Inter-ties         0     Total Inter-tie Flow     0.0               0.0\n",
      "Areas              1\n",
      "\n",
      "                          Minimum                      Maximum\n",
      "                 -------------------------  --------------------------------\n",
      "Voltage Magnitude   1.000 p.u. @ bus 2          1.000 p.u. @ bus 0   \n",
      "Voltage Angle      -0.00 deg   @ bus 2          0.01 deg   @ bus 4   \n",
      "P Losses (I^2*R)             -                  0.01 MW    @ line 0-1\n",
      "Q Losses (I^2*X)             -                  0.08 MVAr  @ line 0-1\n",
      "\n",
      "================================================================================\n",
      "|     Area Summary                                                             |\n",
      "================================================================================\n",
      "Area  # of      # of Gens        # of Loads         # of    # of   # of   # of\n",
      " Num  Buses   Total  Online   Total  Fixed  Disp    Shunt   Brchs  Xfmrs   Ties\n",
      "----  -----   -----  ------   -----  -----  -----   -----   -----  -----  -----\n",
      "  1       5       6      6       3      3      0       0       6      6      0\n",
      "----  -----   -----  ------   -----  -----  -----   -----   -----  -----  -----\n",
      "Tot:      5       6      6       3      3      0       0       6      6      0\n",
      "\n",
      "Area      Total Gen Capacity           On-line Gen Capacity         Generation\n",
      " Num     MW           MVAr            MW           MVAr             MW    MVAr\n",
      "----   ------  ------------------   ------  ------------------    ------  ------\n",
      "  1    1530.0  -1197.5 to 1197.5   1530.0  -1197.5 to 1197.5     1000.0   328.9\n",
      "----   ------  ------------------   ------  ------------------    ------  ------\n",
      "\n",
      "Area    Disp Load Cap       Disp Load         Fixed Load        Total Load\n",
      " Num      MW     MVAr       MW     MVAr       MW     MVAr       MW     MVAr\n",
      "----    ------  ------    ------  ------    ------  ------    ------  ------\n",
      "  1        0.0     0.0       0.0     0.0    1000.0   328.7    1000.0   328.7\n",
      "----    ------  ------    ------  ------    ------  ------    ------  ------\n",
      "Tot:       0.0     0.0       0.0     0.0    1000.0   328.7    1000.0   328.7\n",
      "\n",
      "Area      Shunt Inj        Branch      Series Losses      Net Export\n",
      " Num      MW     MVAr     Charging      MW     MVAr       MW     MVAr\n",
      "----    ------  ------    --------    ------  ------    ------  ------\n",
      "  1        0.0     0.0        0.0       0.02    0.18       0.0     0.0\n",
      "----    ------  ------    --------    ------  ------    ------  ------\n",
      "Tot:       0.0     0.0        0.0       0.02    0.18       -       -\n",
      "\n",
      "================================================================================\n",
      "|     Generator Data                                                           |\n",
      "================================================================================\n",
      " Gen   Bus   Status     Pg        Qg   \n",
      "  #     #              (MW)     (MVAr) \n",
      "----  -----  ------  --------  --------\n",
      "  0      1      1       0.00      0.00\n",
      "  1      0      1      40.00     29.90\n",
      "  2      0      1     133.41    127.41\n",
      "  3      3      1     226.61    159.89\n",
      "  4      3      1       0.00     54.81\n",
      "  5      4      1     600.00    -43.15\n",
      "                     --------  --------\n",
      "            Total:   1000.02    328.87\n",
      "\n",
      "================================================================================\n",
      "|     Bus Data                                                                 |\n",
      "================================================================================\n",
      " Bus      Voltage          Generation             Load        \n",
      "  #   Mag(pu) Ang(deg)   P (MW)   Q (MVAr)   P (MW)   Q (MVAr)\n",
      "----- ------- --------  --------  --------  --------  --------\n",
      "    0  1.000    0.011    173.41    157.32       -         -   \n",
      "    1  1.000    0.000*     0.00      0.00    300.00     98.61 \n",
      "    2  1.000   -0.001       -         -      300.00     98.61 \n",
      "    3  1.000    0.006    226.61    214.70    400.00    131.47 \n",
      "    4  1.000    0.014    600.00    -43.15       -         -   \n",
      "                        --------  --------  --------  --------\n",
      "               Total:   1000.02    328.87   1000.00    328.69\n",
      "\n",
      "================================================================================\n",
      "|     Branch Data                                                              |\n",
      "================================================================================\n",
      "Brnch   From   To    From Bus Injection   To Bus Injection     Loss (I^2 * Z)  \n",
      "  #     Bus    Bus    P (MW)   Q (MVAr)   P (MW)   Q (MVAr)   P (MW)   Q (MVAr)\n",
      "-----  -----  -----  --------  --------  --------  --------  --------  --------\n",
      "   0      0      1    376.82    105.02   -376.81   -104.93     0.008      0.08\n",
      "   1      0      3    157.55      9.11   -157.54     -9.09     0.001      0.01\n",
      "   2      0      4   -360.96     43.19    360.96    -43.18     0.002      0.02\n",
      "   3      1      2     76.81      6.32    -76.81     -6.32     0.000      0.00\n",
      "   4      2      3   -223.19    -92.29    223.19     92.32     0.003      0.03\n",
      "   5      3      4   -239.04      0.01    239.04      0.02     0.003      0.03\n",
      "                                                             --------  --------\n",
      "                                                    Total:     0.018      0.18\n",
      "\n",
      "Converged in 0.59 seconds\n",
      "================================================================================\n",
      "| PyPower (ppci) System Summary - these are not valid for pandapower DataFrames|\n",
      "================================================================================\n",
      "\n",
      "How many?                How much?              P (MW)            Q (MVAr)\n",
      "---------------------    -------------------  -------------  -----------------\n",
      "Buses              5     Total Gen Capacity    1530.0       -1197.5 to 1197.5\n",
      "Generators         6     On-line Capacity      1530.0       -1197.5 to 1197.5\n",
      "Committed Gens     6     Generation (actual)   1000.0             328.9\n",
      "Loads              3     Load                  1000.0             328.7\n",
      "  Fixed            3       Fixed               1000.0             328.7\n",
      "  Dispatchable     0       Dispatchable           0.0 of 0.0        0.0\n",
      "Shunts             0     Shunt (inj)              0.0               0.0\n",
      "Branches           6     Losses (I^2 * Z)         0.02              0.18\n",
      "Transformers       6     Branch Charging (inj)     -                0.0\n",
      "Inter-ties         0     Total Inter-tie Flow     0.0               0.0\n",
      "Areas              1\n",
      "\n",
      "                          Minimum                      Maximum\n",
      "                 -------------------------  --------------------------------\n",
      "Voltage Magnitude   1.000 p.u. @ bus 2          1.000 p.u. @ bus 0   \n",
      "Voltage Angle      -0.00 deg   @ bus 2          0.01 deg   @ bus 4   \n",
      "P Losses (I^2*R)             -                  0.01 MW    @ line 0-1\n",
      "Q Losses (I^2*X)             -                  0.08 MVAr  @ line 0-1\n",
      "\n",
      "================================================================================\n",
      "|     Area Summary                                                             |\n",
      "================================================================================\n",
      "Area  # of      # of Gens        # of Loads         # of    # of   # of   # of\n",
      " Num  Buses   Total  Online   Total  Fixed  Disp    Shunt   Brchs  Xfmrs   Ties\n",
      "----  -----   -----  ------   -----  -----  -----   -----   -----  -----  -----\n",
      "  1       5       6      6       3      3      0       0       6      6      0\n",
      "----  -----   -----  ------   -----  -----  -----   -----   -----  -----  -----\n",
      "Tot:      5       6      6       3      3      0       0       6      6      0\n",
      "\n",
      "Area      Total Gen Capacity           On-line Gen Capacity         Generation\n",
      " Num     MW           MVAr            MW           MVAr             MW    MVAr\n",
      "----   ------  ------------------   ------  ------------------    ------  ------\n",
      "  1    1530.0  -1197.5 to 1197.5   1530.0  -1197.5 to 1197.5     1000.0   328.9\n",
      "----   ------  ------------------   ------  ------------------    ------  ------\n",
      "\n",
      "Area    Disp Load Cap       Disp Load         Fixed Load        Total Load\n",
      " Num      MW     MVAr       MW     MVAr       MW     MVAr       MW     MVAr\n",
      "----    ------  ------    ------  ------    ------  ------    ------  ------\n",
      "  1        0.0     0.0       0.0     0.0    1000.0   328.7    1000.0   328.7\n",
      "----    ------  ------    ------  ------    ------  ------    ------  ------\n",
      "Tot:       0.0     0.0       0.0     0.0    1000.0   328.7    1000.0   328.7\n",
      "\n",
      "Area      Shunt Inj        Branch      Series Losses      Net Export\n",
      " Num      MW     MVAr     Charging      MW     MVAr       MW     MVAr\n",
      "----    ------  ------    --------    ------  ------    ------  ------\n",
      "  1        0.0     0.0        0.0       0.02    0.18       0.0     0.0\n",
      "----    ------  ------    --------    ------  ------    ------  ------\n",
      "Tot:       0.0     0.0        0.0       0.02    0.18       -       -\n",
      "\n",
      "================================================================================\n",
      "|     Generator Data                                                           |\n",
      "================================================================================\n",
      " Gen   Bus   Status     Pg        Qg   \n",
      "  #     #              (MW)     (MVAr) \n",
      "----  -----  ------  --------  --------\n",
      "  0      1      1       0.00      0.00\n",
      "  1      0      1      40.00     29.90\n",
      "  2      0      1     133.41    127.41\n",
      "  3      3      1     226.61    159.89\n",
      "  4      3      1       0.00     54.81\n",
      "  5      4      1     600.00    -43.15\n",
      "                     --------  --------\n",
      "            Total:   1000.02    328.87\n",
      "\n",
      "================================================================================\n",
      "|     Bus Data                                                                 |\n",
      "================================================================================\n",
      " Bus      Voltage          Generation             Load        \n",
      "  #   Mag(pu) Ang(deg)   P (MW)   Q (MVAr)   P (MW)   Q (MVAr)\n",
      "----- ------- --------  --------  --------  --------  --------\n",
      "    0  1.000    0.011    173.41    157.32       -         -   \n",
      "    1  1.000    0.000*     0.00      0.00    300.00     98.61 \n",
      "    2  1.000   -0.001       -         -      300.00     98.61 \n",
      "    3  1.000    0.006    226.61    214.70    400.00    131.47 \n",
      "    4  1.000    0.014    600.00    -43.15       -         -   \n",
      "                        --------  --------  --------  --------\n",
      "               Total:   1000.02    328.87   1000.00    328.69\n",
      "\n",
      "================================================================================\n",
      "|     Branch Data                                                              |\n",
      "================================================================================\n",
      "Brnch   From   To    From Bus Injection   To Bus Injection     Loss (I^2 * Z)  \n",
      "  #     Bus    Bus    P (MW)   Q (MVAr)   P (MW)   Q (MVAr)   P (MW)   Q (MVAr)\n",
      "-----  -----  -----  --------  --------  --------  --------  --------  --------\n",
      "   0      0      1    376.82    105.02   -376.81   -104.93     0.008      0.08\n",
      "   1      0      3    157.55      9.11   -157.54     -9.09     0.001      0.01\n",
      "   2      0      4   -360.96     43.19    360.96    -43.18     0.002      0.02\n",
      "   3      1      2     76.81      6.32    -76.81     -6.32     0.000      0.00\n",
      "   4      2      3   -223.19    -92.29    223.19     92.32     0.003      0.03\n",
      "   5      3      4   -239.04      0.01    239.04      0.02     0.003      0.03\n",
      "                                                             --------  --------\n",
      "                                                    Total:     0.018      0.18\n"
     ]
    }
   ],
   "source": [
    "pp.runopp(net, verbose=True)"
   ]
  },
  {
   "cell_type": "code",
   "execution_count": 9,
   "metadata": {},
   "outputs": [
    {
     "data": {
      "text/plain": [
       "This pandapower network includes the following parameter tables:\n",
       "   - bus (5 elements)\n",
       "   - load (3 elements)\n",
       "   - gen (5 elements)\n",
       "   - ext_grid (1 element)\n",
       "   - line (6 elements)\n",
       "   - poly_cost (6 elements)\n",
       "   - line_geodata (6 elements)\n",
       "   - bus_geodata (5 elements)\n",
       " and the following results tables:\n",
       "   - res_bus (5 elements)\n",
       "   - res_line (6 elements)\n",
       "   - res_ext_grid (1 element)\n",
       "   - res_load (3 elements)\n",
       "   - res_gen (5 elements)"
      ]
     },
     "execution_count": 9,
     "metadata": {},
     "output_type": "execute_result"
    }
   ],
   "source": [
    "net"
   ]
  },
  {
   "cell_type": "code",
   "execution_count": 10,
   "metadata": {},
   "outputs": [
    {
     "data": {
      "text/html": [
       "<div>\n",
       "<style scoped>\n",
       "    .dataframe tbody tr th:only-of-type {\n",
       "        vertical-align: middle;\n",
       "    }\n",
       "\n",
       "    .dataframe tbody tr th {\n",
       "        vertical-align: top;\n",
       "    }\n",
       "\n",
       "    .dataframe thead th {\n",
       "        text-align: right;\n",
       "    }\n",
       "</style>\n",
       "<table border=\"1\" class=\"dataframe\">\n",
       "  <thead>\n",
       "    <tr style=\"text-align: right;\">\n",
       "      <th></th>\n",
       "      <th>p_mw</th>\n",
       "      <th>q_mvar</th>\n",
       "      <th>va_degree</th>\n",
       "      <th>vm_pu</th>\n",
       "    </tr>\n",
       "  </thead>\n",
       "  <tbody>\n",
       "    <tr>\n",
       "      <th>0</th>\n",
       "      <td>39.999988</td>\n",
       "      <td>29.904340</td>\n",
       "      <td>0.011148</td>\n",
       "      <td>1.000076</td>\n",
       "    </tr>\n",
       "    <tr>\n",
       "      <th>1</th>\n",
       "      <td>133.405042</td>\n",
       "      <td>127.412723</td>\n",
       "      <td>0.011148</td>\n",
       "      <td>1.000076</td>\n",
       "    </tr>\n",
       "    <tr>\n",
       "      <th>2</th>\n",
       "      <td>226.612756</td>\n",
       "      <td>159.894619</td>\n",
       "      <td>0.005991</td>\n",
       "      <td>1.000061</td>\n",
       "    </tr>\n",
       "    <tr>\n",
       "      <th>3</th>\n",
       "      <td>0.000001</td>\n",
       "      <td>54.808947</td>\n",
       "      <td>0.005991</td>\n",
       "      <td>1.000061</td>\n",
       "    </tr>\n",
       "    <tr>\n",
       "      <th>4</th>\n",
       "      <td>599.999973</td>\n",
       "      <td>-43.154304</td>\n",
       "      <td>0.013680</td>\n",
       "      <td>1.000075</td>\n",
       "    </tr>\n",
       "  </tbody>\n",
       "</table>\n",
       "</div>"
      ],
      "text/plain": [
       "         p_mw      q_mvar  va_degree     vm_pu\n",
       "0   39.999988   29.904340   0.011148  1.000076\n",
       "1  133.405042  127.412723   0.011148  1.000076\n",
       "2  226.612756  159.894619   0.005991  1.000061\n",
       "3    0.000001   54.808947   0.005991  1.000061\n",
       "4  599.999973  -43.154304   0.013680  1.000075"
      ]
     },
     "execution_count": 10,
     "metadata": {},
     "output_type": "execute_result"
    }
   ],
   "source": [
    "net.res_gen"
   ]
  },
  {
   "cell_type": "code",
   "execution_count": null,
   "metadata": {},
   "outputs": [],
   "source": []
  },
  {
   "cell_type": "code",
   "execution_count": null,
   "metadata": {},
   "outputs": [],
   "source": []
  },
  {
   "cell_type": "code",
   "execution_count": null,
   "metadata": {},
   "outputs": [],
   "source": []
  },
  {
   "cell_type": "code",
   "execution_count": null,
   "metadata": {},
   "outputs": [],
   "source": []
  },
  {
   "cell_type": "code",
   "execution_count": null,
   "metadata": {},
   "outputs": [],
   "source": []
  }
 ],
 "metadata": {
  "kernelspec": {
   "display_name": "Python 3",
   "language": "python",
   "name": "python3"
  },
  "language_info": {
   "codemirror_mode": {
    "name": "ipython",
    "version": 3
   },
   "file_extension": ".py",
   "mimetype": "text/x-python",
   "name": "python",
   "nbconvert_exporter": "python",
   "pygments_lexer": "ipython3",
   "version": "3.7.0"
  }
 },
 "nbformat": 4,
 "nbformat_minor": 2
}
